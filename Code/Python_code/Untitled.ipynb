{
 "cells": [
  {
   "cell_type": "code",
   "execution_count": 1,
   "id": "0b9926a0-77fc-47c8-9a97-f64ac510da7a",
   "metadata": {},
   "outputs": [],
   "source": [
    "import numpy as np\n",
    "import scipy\n",
    "import pandas as pd\n",
    "from sklearn import preprocessing\n",
    "from sklearn.ensemble import RandomForestClassifier\n",
    "from sklearn.tree import DecisionTreeClassifier\n",
    "from sklearn.model_selection import train_test_split, cross_val_score, GridSearchCV, RandomizedSearchCV\n",
    "from sklearn.metrics import roc_curve, auc, roc_auc_score\n",
    "import matplotlib.pyplot as plt"
   ]
  },
  {
   "cell_type": "code",
   "execution_count": 2,
   "id": "ce63799b-db31-4c22-9b39-36c0b4735e8f",
   "metadata": {},
   "outputs": [
    {
     "name": "stderr",
     "output_type": "stream",
     "text": [
      "<ipython-input-2-30203b14c1a0>:1: DtypeWarning: Columns (23) have mixed types. Specify dtype option on import or set low_memory=False.\n",
      "  df = pd.read_csv('C:/Users/Han/Desktop/Box Sync/Stat 485/Final Project/cleaned.data.csv', index_col=[0])\n"
     ]
    }
   ],
   "source": [
    "df = pd.read_csv('C:/Users/Han/Desktop/Box Sync/Stat 485/Final Project/cleaned.data.csv', index_col=[0])"
   ]
  },
  {
   "cell_type": "markdown",
   "id": "7bc8f8c8-022a-4869-8406-dc43e1fb69b4",
   "metadata": {},
   "source": [
    "Change loan_approved to 1 or 0 and move it to the last column"
   ]
  },
  {
   "cell_type": "code",
   "execution_count": 3,
   "id": "5d144310-3b50-40f3-a27e-a132320b83be",
   "metadata": {},
   "outputs": [],
   "source": [
    "label = df['loan_approved']\n",
    "df = df.drop(['loan_approved'], axis =1)\n",
    "df.insert(loc=23, column = 'loan_approved', value = label)"
   ]
  },
  {
   "cell_type": "code",
   "execution_count": 4,
   "id": "3e87e92c-ef5e-4f74-94c1-8ce3a0e5a257",
   "metadata": {},
   "outputs": [],
   "source": [
    "df.loan_approved= df.loan_approved.astype(str).map({'No':0, 'Yes':1})"
   ]
  },
  {
   "cell_type": "markdown",
   "id": "22c0aae6-7f88-4cba-b2b6-d0c7ee6282b3",
   "metadata": {},
   "source": [
    "Drop redundant columns, county_name, county_code, denials"
   ]
  },
  {
   "cell_type": "code",
   "execution_count": 5,
   "id": "a977b118-c28d-4e7b-9f6d-b49d4b07c8f6",
   "metadata": {},
   "outputs": [],
   "source": [
    "df = df.drop(['county_name','county_code','denials'], axis = 1)"
   ]
  },
  {
   "cell_type": "markdown",
   "id": "56952d84-9933-40e3-a4cf-5d11c00eb482",
   "metadata": {},
   "source": [
    "Drop column: hoepa_status_name, because it is perfectly in line with the approval of the loan"
   ]
  },
  {
   "cell_type": "code",
   "execution_count": 6,
   "id": "92f35445-d125-4547-95a7-39a77b14706e",
   "metadata": {},
   "outputs": [],
   "source": [
    "df = df.drop(['hoepa_status_name'], axis = 1)"
   ]
  },
  {
   "cell_type": "markdown",
   "id": "157cfe78-6be0-4369-bfda-4365a702d68f",
   "metadata": {},
   "source": [
    "Process label encoder on the object variables to work with sk.classifier"
   ]
  },
  {
   "cell_type": "code",
   "execution_count": 7,
   "id": "03f9e47e-557c-4043-b7a1-b6a56996f532",
   "metadata": {},
   "outputs": [
    {
     "data": {
      "text/plain": [
       "tract_to_msamd_income             float64\n",
       "population                          int64\n",
       "minority_population               float64\n",
       "number_of_owner_occupied_units      int64\n",
       "number_of_1_to_4_family_units       int64\n",
       "loan_amount_000s                    int64\n",
       "hud_median_family_income            int64\n",
       "applicant_income_000s               int64\n",
       "property_type_name                 object\n",
       "owner_occupancy_name               object\n",
       "loan_type_name                     object\n",
       "loan_purpose_name                  object\n",
       "lien_status_name                   object\n",
       "co_applicant_sex_name              object\n",
       "census_tract_number               float64\n",
       "applicant_sex_name                 object\n",
       "agency_abbr                        object\n",
       "applicant_race                     object\n",
       "co_applicant_race                  object\n",
       "loan_approved                       int64\n",
       "dtype: object"
      ]
     },
     "execution_count": 7,
     "metadata": {},
     "output_type": "execute_result"
    }
   ],
   "source": [
    "df.dtypes"
   ]
  },
  {
   "cell_type": "code",
   "execution_count": 8,
   "id": "996f6ed1-0833-4637-b977-593043293df0",
   "metadata": {},
   "outputs": [],
   "source": [
    "le = preprocessing.LabelEncoder()\n",
    "for column_name in df.columns:\n",
    "    if df[column_name].dtype == object:\n",
    "        df[column_name] = le.fit_transform(df[column_name])\n",
    "    else:\n",
    "        pass"
   ]
  },
  {
   "cell_type": "markdown",
   "id": "4a78a673-67bf-49f2-a3e8-8dfd5f59ed73",
   "metadata": {},
   "source": [
    "Adjust a few column's dtype"
   ]
  },
  {
   "cell_type": "code",
   "execution_count": 9,
   "id": "a7b71ba9-bc17-4057-b556-0da6f3d53111",
   "metadata": {},
   "outputs": [],
   "source": [
    "#df.loc[:,'property_type_name':'loan_approved'] = df.loc[:,'property_type_name':'loan_approved'].apply(pd.Categorical)"
   ]
  },
  {
   "cell_type": "markdown",
   "id": "9c4ad7d8-9bc4-41a2-8699-390ec0e8b6c8",
   "metadata": {},
   "source": [
    "List the # of copies of each class"
   ]
  },
  {
   "cell_type": "code",
   "execution_count": 10,
   "id": "ae710f17-89ec-4be6-bdd7-b7cc9c64b801",
   "metadata": {},
   "outputs": [
    {
     "data": {
      "text/plain": [
       "1    251758\n",
       "0     60016\n",
       "Name: loan_approved, dtype: int64"
      ]
     },
     "execution_count": 10,
     "metadata": {},
     "output_type": "execute_result"
    }
   ],
   "source": [
    "df.loan_approved.value_counts()"
   ]
  },
  {
   "cell_type": "markdown",
   "id": "88115551-728c-4c65-be2c-dbae0301402f",
   "metadata": {},
   "source": [
    "Prepare the Y/label and the X"
   ]
  },
  {
   "cell_type": "code",
   "execution_count": 11,
   "id": "8e216152-7a27-4d20-8c98-91d9931f46ab",
   "metadata": {},
   "outputs": [],
   "source": [
    "y = df.loan_approved"
   ]
  },
  {
   "cell_type": "code",
   "execution_count": 12,
   "id": "b2f5d94f-9ea2-4c13-84e4-d9d31de90f43",
   "metadata": {},
   "outputs": [],
   "source": [
    "x = df.drop('loan_approved', axis =1)"
   ]
  },
  {
   "cell_type": "code",
   "execution_count": 13,
   "id": "4c3c4660-fd52-4792-a805-208245f61bb5",
   "metadata": {},
   "outputs": [
    {
     "data": {
      "text/plain": [
       "tract_to_msamd_income             float64\n",
       "population                          int64\n",
       "minority_population               float64\n",
       "number_of_owner_occupied_units      int64\n",
       "number_of_1_to_4_family_units       int64\n",
       "loan_amount_000s                    int64\n",
       "hud_median_family_income            int64\n",
       "applicant_income_000s               int64\n",
       "property_type_name                  int32\n",
       "owner_occupancy_name                int32\n",
       "loan_type_name                      int32\n",
       "loan_purpose_name                   int32\n",
       "lien_status_name                    int32\n",
       "co_applicant_sex_name               int32\n",
       "census_tract_number               float64\n",
       "applicant_sex_name                  int32\n",
       "agency_abbr                         int32\n",
       "applicant_race                      int32\n",
       "co_applicant_race                   int32\n",
       "dtype: object"
      ]
     },
     "execution_count": 13,
     "metadata": {},
     "output_type": "execute_result"
    }
   ],
   "source": [
    "x.dtypes"
   ]
  },
  {
   "cell_type": "code",
   "execution_count": 14,
   "id": "97ff191d-d6c8-43b9-abcd-03a9ed1a028a",
   "metadata": {},
   "outputs": [
    {
     "data": {
      "text/html": [
       "<div>\n",
       "<style scoped>\n",
       "    .dataframe tbody tr th:only-of-type {\n",
       "        vertical-align: middle;\n",
       "    }\n",
       "\n",
       "    .dataframe tbody tr th {\n",
       "        vertical-align: top;\n",
       "    }\n",
       "\n",
       "    .dataframe thead th {\n",
       "        text-align: right;\n",
       "    }\n",
       "</style>\n",
       "<table border=\"1\" class=\"dataframe\">\n",
       "  <thead>\n",
       "    <tr style=\"text-align: right;\">\n",
       "      <th></th>\n",
       "      <th>tract_to_msamd_income</th>\n",
       "      <th>population</th>\n",
       "      <th>minority_population</th>\n",
       "      <th>number_of_owner_occupied_units</th>\n",
       "      <th>number_of_1_to_4_family_units</th>\n",
       "      <th>loan_amount_000s</th>\n",
       "      <th>hud_median_family_income</th>\n",
       "      <th>applicant_income_000s</th>\n",
       "      <th>property_type_name</th>\n",
       "      <th>owner_occupancy_name</th>\n",
       "      <th>loan_type_name</th>\n",
       "      <th>loan_purpose_name</th>\n",
       "      <th>lien_status_name</th>\n",
       "      <th>co_applicant_sex_name</th>\n",
       "      <th>census_tract_number</th>\n",
       "      <th>applicant_sex_name</th>\n",
       "      <th>agency_abbr</th>\n",
       "      <th>applicant_race</th>\n",
       "      <th>co_applicant_race</th>\n",
       "    </tr>\n",
       "  </thead>\n",
       "  <tbody>\n",
       "    <tr>\n",
       "      <th>1</th>\n",
       "      <td>121.690002</td>\n",
       "      <td>8381</td>\n",
       "      <td>23.790001</td>\n",
       "      <td>2175</td>\n",
       "      <td>2660</td>\n",
       "      <td>227</td>\n",
       "      <td>73300</td>\n",
       "      <td>116</td>\n",
       "      <td>1</td>\n",
       "      <td>2</td>\n",
       "      <td>0</td>\n",
       "      <td>2</td>\n",
       "      <td>1</td>\n",
       "      <td>2</td>\n",
       "      <td>413.27</td>\n",
       "      <td>0</td>\n",
       "      <td>0</td>\n",
       "      <td>5</td>\n",
       "      <td>5</td>\n",
       "    </tr>\n",
       "    <tr>\n",
       "      <th>2</th>\n",
       "      <td>83.370003</td>\n",
       "      <td>4915</td>\n",
       "      <td>23.990000</td>\n",
       "      <td>1268</td>\n",
       "      <td>1777</td>\n",
       "      <td>240</td>\n",
       "      <td>57900</td>\n",
       "      <td>42</td>\n",
       "      <td>1</td>\n",
       "      <td>2</td>\n",
       "      <td>1</td>\n",
       "      <td>1</td>\n",
       "      <td>1</td>\n",
       "      <td>3</td>\n",
       "      <td>9208.01</td>\n",
       "      <td>2</td>\n",
       "      <td>3</td>\n",
       "      <td>4</td>\n",
       "      <td>7</td>\n",
       "    </tr>\n",
       "    <tr>\n",
       "      <th>3</th>\n",
       "      <td>91.129997</td>\n",
       "      <td>5075</td>\n",
       "      <td>11.820000</td>\n",
       "      <td>1136</td>\n",
       "      <td>1838</td>\n",
       "      <td>241</td>\n",
       "      <td>73300</td>\n",
       "      <td>117</td>\n",
       "      <td>1</td>\n",
       "      <td>2</td>\n",
       "      <td>0</td>\n",
       "      <td>2</td>\n",
       "      <td>1</td>\n",
       "      <td>0</td>\n",
       "      <td>414.00</td>\n",
       "      <td>2</td>\n",
       "      <td>3</td>\n",
       "      <td>8</td>\n",
       "      <td>9</td>\n",
       "    </tr>\n",
       "    <tr>\n",
       "      <th>4</th>\n",
       "      <td>146.169998</td>\n",
       "      <td>5032</td>\n",
       "      <td>8.590000</td>\n",
       "      <td>1525</td>\n",
       "      <td>1820</td>\n",
       "      <td>351</td>\n",
       "      <td>73300</td>\n",
       "      <td>315</td>\n",
       "      <td>1</td>\n",
       "      <td>2</td>\n",
       "      <td>0</td>\n",
       "      <td>2</td>\n",
       "      <td>1</td>\n",
       "      <td>0</td>\n",
       "      <td>405.10</td>\n",
       "      <td>2</td>\n",
       "      <td>4</td>\n",
       "      <td>5</td>\n",
       "      <td>5</td>\n",
       "    </tr>\n",
       "    <tr>\n",
       "      <th>5</th>\n",
       "      <td>162.470001</td>\n",
       "      <td>5183</td>\n",
       "      <td>10.500000</td>\n",
       "      <td>1705</td>\n",
       "      <td>2104</td>\n",
       "      <td>417</td>\n",
       "      <td>78100</td>\n",
       "      <td>114</td>\n",
       "      <td>1</td>\n",
       "      <td>2</td>\n",
       "      <td>0</td>\n",
       "      <td>0</td>\n",
       "      <td>1</td>\n",
       "      <td>2</td>\n",
       "      <td>907.00</td>\n",
       "      <td>0</td>\n",
       "      <td>1</td>\n",
       "      <td>8</td>\n",
       "      <td>9</td>\n",
       "    </tr>\n",
       "  </tbody>\n",
       "</table>\n",
       "</div>"
      ],
      "text/plain": [
       "   tract_to_msamd_income  population  minority_population  \\\n",
       "1             121.690002        8381            23.790001   \n",
       "2              83.370003        4915            23.990000   \n",
       "3              91.129997        5075            11.820000   \n",
       "4             146.169998        5032             8.590000   \n",
       "5             162.470001        5183            10.500000   \n",
       "\n",
       "   number_of_owner_occupied_units  number_of_1_to_4_family_units  \\\n",
       "1                            2175                           2660   \n",
       "2                            1268                           1777   \n",
       "3                            1136                           1838   \n",
       "4                            1525                           1820   \n",
       "5                            1705                           2104   \n",
       "\n",
       "   loan_amount_000s  hud_median_family_income  applicant_income_000s  \\\n",
       "1               227                     73300                    116   \n",
       "2               240                     57900                     42   \n",
       "3               241                     73300                    117   \n",
       "4               351                     73300                    315   \n",
       "5               417                     78100                    114   \n",
       "\n",
       "   property_type_name  owner_occupancy_name  loan_type_name  \\\n",
       "1                   1                     2               0   \n",
       "2                   1                     2               1   \n",
       "3                   1                     2               0   \n",
       "4                   1                     2               0   \n",
       "5                   1                     2               0   \n",
       "\n",
       "   loan_purpose_name  lien_status_name  co_applicant_sex_name  \\\n",
       "1                  2                 1                      2   \n",
       "2                  1                 1                      3   \n",
       "3                  2                 1                      0   \n",
       "4                  2                 1                      0   \n",
       "5                  0                 1                      2   \n",
       "\n",
       "   census_tract_number  applicant_sex_name  agency_abbr  applicant_race  \\\n",
       "1               413.27                   0            0               5   \n",
       "2              9208.01                   2            3               4   \n",
       "3               414.00                   2            3               8   \n",
       "4               405.10                   2            4               5   \n",
       "5               907.00                   0            1               8   \n",
       "\n",
       "   co_applicant_race  \n",
       "1                  5  \n",
       "2                  7  \n",
       "3                  9  \n",
       "4                  5  \n",
       "5                  9  "
      ]
     },
     "execution_count": 14,
     "metadata": {},
     "output_type": "execute_result"
    }
   ],
   "source": [
    "x.head()"
   ]
  },
  {
   "cell_type": "markdown",
   "id": "7572354e-e0d9-4cb0-a8bf-b5ac8516e743",
   "metadata": {},
   "source": [
    "Split"
   ]
  },
  {
   "cell_type": "code",
   "execution_count": 15,
   "id": "f8e4410e-7c03-4fe9-b036-75cd69faf7d7",
   "metadata": {},
   "outputs": [],
   "source": [
    "seed = 127\n",
    "xtrain,xtest, ytrain, ytest = train_test_split(x,y,test_size =.2, random_state= seed)"
   ]
  },
  {
   "cell_type": "markdown",
   "id": "e1c4812d-92fa-4cc8-841f-93c712c1a5de",
   "metadata": {},
   "source": [
    "Let do some un-tuned prediction and use them as the baseline performance"
   ]
  },
  {
   "cell_type": "code",
   "execution_count": 16,
   "id": "93ce0ba1-1b82-4bc0-912d-b20d5465db3b",
   "metadata": {},
   "outputs": [
    {
     "data": {
      "text/plain": [
       "0.8200785823109614"
      ]
     },
     "execution_count": 16,
     "metadata": {},
     "output_type": "execute_result"
    }
   ],
   "source": [
    "rfc = RandomForestClassifier() # examplify\n",
    "rfc = rfc.fit(xtrain,ytrain) # use the class' fit\n",
    "\n",
    "result = rfc.score(xtest,ytest) # get the score/accuracy with no tuning to see some preliminary results\n",
    "result"
   ]
  },
  {
   "cell_type": "markdown",
   "id": "fc73d0f7-6710-472a-91fb-ac023da8d3a0",
   "metadata": {},
   "source": [
    "We can try to print all trees out, although there is definitely no need"
   ]
  },
  {
   "cell_type": "code",
   "execution_count": 17,
   "id": "937b9a17-773b-4c26-9cc3-098bceb33120",
   "metadata": {},
   "outputs": [],
   "source": [
    "#print('All tree: %s' %r fc.estimators_)"
   ]
  },
  {
   "cell_type": "markdown",
   "id": "94da2d34-9bde-4dc6-8bd6-124a072d1138",
   "metadata": {},
   "source": [
    "We can also print out all predictions' probabilities"
   ]
  },
  {
   "cell_type": "code",
   "execution_count": 18,
   "id": "a7b3c067-6afb-498f-9344-2392f5c7cbe7",
   "metadata": {},
   "outputs": [
    {
     "name": "stdout",
     "output_type": "stream",
     "text": [
      "Every predition being 1 with probability of: [0.91 0.94 0.97 ... 0.52 0.58 0.76]\n"
     ]
    }
   ],
   "source": [
    "print('Every predition being 1 with probability of: %s' % rfc.predict_proba(xtest)[:,1]) # if we change the index 1 to 0, we get the proba of prediction being 0"
   ]
  },
  {
   "cell_type": "markdown",
   "id": "2906156c-905a-44aa-8d66-0e7fbb2f58f8",
   "metadata": {},
   "source": [
    "Check on the ROC AUC"
   ]
  },
  {
   "cell_type": "code",
   "execution_count": 19,
   "id": "c4984b18-b191-4e9d-b6ef-fb815cbd6606",
   "metadata": {},
   "outputs": [
    {
     "data": {
      "text/plain": [
       "0.7393356982971137"
      ]
     },
     "execution_count": 19,
     "metadata": {},
     "output_type": "execute_result"
    }
   ],
   "source": [
    "roc_auc_score(ytest, rfc.predict_proba(xtest)[:,1])"
   ]
  },
  {
   "cell_type": "code",
   "execution_count": 20,
   "id": "6ea9ae9a-d15e-42f8-b3a5-53d8e5f82ecc",
   "metadata": {},
   "outputs": [
    {
     "name": "stdout",
     "output_type": "stream",
     "text": [
      "The importance of each feature: [0.07032538 0.06580618 0.0702969  0.06476237 0.06558307 0.17010399\n",
      " 0.02580213 0.18849035 0.00558272 0.01041118 0.01981308 0.04654867\n",
      " 0.00661021 0.01714157 0.06979356 0.02210432 0.03478327 0.02782951\n",
      " 0.01821154]\n"
     ]
    }
   ],
   "source": [
    "print('The importance of each feature: %s' % rfc.feature_importances_)"
   ]
  },
  {
   "cell_type": "code",
   "execution_count": 21,
   "id": "1fe6e7c5-9a1b-4e3f-a618-e73ad9050147",
   "metadata": {},
   "outputs": [
    {
     "name": "stdout",
     "output_type": "stream",
     "text": [
      "Feature Ranking\n",
      " 1) applicant_income_000s          0.188490\n",
      " 2) loan_amount_000s               0.170104\n",
      " 3) tract_to_msamd_income          0.070325\n",
      " 4) minority_population            0.070297\n",
      " 5) census_tract_number            0.069794\n",
      " 6) population                     0.065806\n",
      " 7) number_of_1_to_4_family_units  0.065583\n",
      " 8) number_of_owner_occupied_units 0.064762\n",
      " 9) loan_purpose_name              0.046549\n",
      "10) agency_abbr                    0.034783\n",
      "11) applicant_race                 0.027830\n",
      "12) hud_median_family_income       0.025802\n",
      "13) applicant_sex_name             0.022104\n",
      "14) loan_type_name                 0.019813\n",
      "15) co_applicant_race              0.018212\n",
      "16) co_applicant_sex_name          0.017142\n",
      "17) owner_occupancy_name           0.010411\n",
      "18) lien_status_name               0.006610\n",
      "19) property_type_name             0.005583\n"
     ]
    },
    {
     "data": {
      "image/png": "[encoded data removed]",
      "text/plain": [
       "<Figure size 640x480 with 1 Axes>"
      ]
     },
     "metadata": {},
     "output_type": "display_data"
    }
   ],
   "source": [
    "importances = rfc.feature_importances_ # feature's import\n",
    "std = np.std([tree.feature_importances_ for tree in rfc.estimators_], axis = 0)\n",
    "indices = np.argsort(importances)[::-1] # Print out the feature importance ranking, -1 is to indicator ascending\n",
    "print(\"Feature Ranking\")\n",
    "for f in range(xtrain.shape[1]):\n",
    "    print(\"%2d) %-*s %f\" % (f+1, 30, xtrain.columns[indices[f]], importances[indices[f]]))\n",
    "plt.figure()\n",
    "plt.title(\"Feature Importance\")\n",
    "plt.bar(range(xtrain.shape[1]), importances[indices], color = 'green', yerr = std[indices], align = 'center')\n",
    "plt.xticks(range(xtrain.shape[1]), range(1,xtrain.shape[1]+1))\n",
    "plt.xlim([-1, xtrain.shape[1]])\n",
    "plt.show()"
   ]
  },
  {
   "cell_type": "markdown",
   "id": "32fb6bb6-46b9-460e-9c38-d3702778e69b",
   "metadata": {},
   "source": [
    "ROC curve"
   ]
  },
  {
   "cell_type": "code",
   "execution_count": 22,
   "id": "392d5368-c7fb-4629-9577-922d277d260c",
   "metadata": {},
   "outputs": [
    {
     "data": {
      "image/png": "[encoded data removed]",
      "text/plain": [
       "<Figure size 640x480 with 1 Axes>"
      ]
     },
     "metadata": {},
     "output_type": "display_data"
    }
   ],
   "source": [
    "predictions_validation = rfc.predict_proba(xtest)[:,1]\n",
    "fpr, tpr, _ = roc_curve(ytest, predictions_validation)\n",
    "roc_auc = auc(fpr, tpr)\n",
    "plt.title('ROC Validation')\n",
    "plt.plot(fpr, tpr, 'b', label = 'AUC = %0.2f' % roc_auc)\n",
    "plt.legend(loc = 'lower right')\n",
    "plt.plot([0,1],[0,1], 'r--')\n",
    "plt.xlim([0,1])\n",
    "plt.ylim([0,1])\n",
    "plt.ylabel('True Positive Rate')\n",
    "plt.xlabel('False Positive Rate')\n",
    "plt.show()"
   ]
  },
  {
   "cell_type": "markdown",
   "id": "c6a5838c-2fc1-4774-bda9-70c7a393e3b6",
   "metadata": {},
   "source": [
    "## Next, we do CV to tune hyper-para. But first, we run a CART with 5-fold CV to see the accuracy result"
   ]
  },
  {
   "cell_type": "code",
   "execution_count": 23,
   "id": "45419106-e6ef-48d2-8c97-17ac19b918b2",
   "metadata": {},
   "outputs": [
    {
     "name": "stdout",
     "output_type": "stream",
     "text": [
      "CART has a mean accuracy of 0.7370 after 10-fold CV\n"
     ]
    }
   ],
   "source": [
    "clf = DecisionTreeClassifier(max_depth = None, min_samples_split= 2, random_state=127)\n",
    "scores = cross_val_score(clf, xtrain, ytrain, cv=10, n_jobs=5)\n",
    "print('CART has a mean accuracy of %0.4f after 10-fold CV' % scores.mean())"
   ]
  },
  {
   "cell_type": "markdown",
   "id": "024dd8d5-8528-489e-a507-bda411eb2d47",
   "metadata": {},
   "source": [
    "## Then we run 5-fold CV on RF"
   ]
  },
  {
   "cell_type": "code",
   "execution_count": 24,
   "id": "cb672b9a-a63c-419d-8395-d6fbe9355339",
   "metadata": {},
   "outputs": [
    {
     "name": "stdout",
     "output_type": "stream",
     "text": [
      "RF has a mean accuracy of 0.8174 after 10-fold CV\n"
     ]
    }
   ],
   "source": [
    "clf = RandomForestClassifier(n_estimators= 200, max_depth = None, min_samples_split=2, random_state=127)\n",
    "scores = cross_val_score(clf, xtrain, ytrain, cv=10, n_jobs=5)\n",
    "print('RF has a mean accuracy of %0.4f after 10-fold CV' % scores.mean())"
   ]
  },
  {
   "cell_type": "markdown",
   "id": "fb59e469-bb35-47ba-a216-fa91c6e3abbe",
   "metadata": {},
   "source": [
    "### The hyper parameters that need to be tuned are: n_estimators(# of trees), min_samples_split (min # of samples required to split an internal node), min_samples_leaf(min # of samples required to be at a leaf node), max_depth, max_sample (proportion of the training samples given to each tree, max = 1, this will speed up if we can lower it),  max_features (max of features given to each tree, default is square.root of d. Conventialy , the ideal number is just around the default), criterion ('gini' or 'entropy'), class_weight (None or 'balanced')"
   ]
  },
  {
   "cell_type": "markdown",
   "id": "e644e60a-e90e-463b-8e48-24e84c37f828",
   "metadata": {},
   "source": [
    "### Do a Random serach first"
   ]
  },
  {
   "cell_type": "code",
   "execution_count": 30,
   "id": "38164b01-9dd9-4bae-8882-23c9a5eb27df",
   "metadata": {},
   "outputs": [
    {
     "name": "stdout",
     "output_type": "stream",
     "text": [
      "{'n_estimators': [200, 400, 600, 800], 'max_features': ['auto'], 'max_depth': [10, 15, 20, 25, 30, None], 'min_samples_split': [20, 60, 100], 'min_samples_leaf': [2, 4], 'bootstrap': [True, False]}\n"
     ]
    }
   ],
   "source": [
    "# Number of trees in random forest\n",
    "n_estimators = [int(x) for x in np.linspace(start = 200, stop = 800, num = 4)]\n",
    "# Number of features to consider at every split\n",
    "max_features = ['auto']\n",
    "# Maximum number of levels in tree\n",
    "max_depth = [int(x) for x in np.linspace(10, 30, num = 5)]\n",
    "max_depth.append(None)\n",
    "# Minimum number of samples required to split a node\n",
    "min_samples_split = [20, 60, 100]\n",
    "# Minimum number of samples required at each leaf node\n",
    "min_samples_leaf = [2, 4]\n",
    "# max_sample, proportion of the training samples given to each tree, max = 1, this will speed up if we can lower it\n",
    "max_sample = [0.2, 0.3, 0.4, 0.5]\n",
    "# class_weight\n",
    "class_weight = [None, 'balanced']\n",
    "\n",
    "# Create the random grid\n",
    "random_grid = {'n_estimators': n_estimators,\n",
    "               'max_features': max_features,\n",
    "               'max_depth': max_depth,\n",
    "               'min_samples_split': min_samples_split,\n",
    "               'min_samples_leaf': min_samples_leaf,\n",
    "               'bootstrap': bootstrap}\n",
    "\n",
    "print(random_grid)"
   ]
  },
  {
   "cell_type": "code",
   "execution_count": null,
   "id": "63c38163-991b-438a-a66d-8626aa7a244e",
   "metadata": {},
   "outputs": [
    {
     "name": "stdout",
     "output_type": "stream",
     "text": [
      "Fitting 5 folds for each of 50 candidates, totalling 250 fits\n"
     ]
    }
   ],
   "source": [
    "# Use the random grid to search for best hyperparameters\n",
    "# First create the base model to tune\n",
    "rf = RandomForestClassifier(random_state = 127)\n",
    "# Random search of parameters, using 3 fold cross validation, \n",
    "# search across 100 different combinations, and use all available cores\n",
    "rf_random = RandomizedSearchCV(estimator=rf, param_distributions=random_grid,\n",
    "                              n_iter = 50, scoring='roc_auc', \n",
    "                              cv = 5, verbose=2, random_state=127, n_jobs=14,\n",
    "                              return_train_score=True)\n",
    "\n",
    "# Fit the random search model\n",
    "rf_random.fit(xtrain, ytrain)"
   ]
  },
  {
   "cell_type": "markdown",
   "id": "acd9758d-7a84-4fb5-b39c-d16035201337",
   "metadata": {},
   "source": [
    "### random serach's best hyperparameters"
   ]
  },
  {
   "cell_type": "code",
   "execution_count": null,
   "id": "23316aec-d62c-481d-b7f2-ea5bafb8a7c8",
   "metadata": {},
   "outputs": [],
   "source": [
    "rf_random.best_params_"
   ]
  },
  {
   "cell_type": "markdown",
   "id": "d32bfc87-bf4e-4673-894b-148d7c178b15",
   "metadata": {},
   "source": [
    "## Evaluate the best Random Search model"
   ]
  },
  {
   "cell_type": "code",
   "execution_count": null,
   "id": "68beb3ac-efe6-4ca0-8152-d5928ddd028c",
   "metadata": {},
   "outputs": [],
   "source": [
    "best_random_model = rf_random.best_estimator_\n",
    "roc_auc_score(ytest, best_random_model.predict_proba(xtest)[:,1])"
   ]
  },
  {
   "cell_type": "markdown",
   "id": "c2d572f7-bf84-4351-ac7b-eb2132fc810a",
   "metadata": {},
   "source": [
    "### Do a Grid serach then"
   ]
  },
  {
   "cell_type": "markdown",
   "id": "e3f03939-8897-4031-935f-05485c44bea3",
   "metadata": {},
   "source": [
    "We can now perfrom grid search building on the result from the random search. We will test a range of hyperparameters around the best value return by random search. "
   ]
  },
  {
   "cell_type": "code",
   "execution_count": null,
   "id": "f22b2e24-95fd-4fa7-ad31-c39009136a5f",
   "metadata": {},
   "outputs": [],
   "source": [
    "# Create the parameter grid based on the results of random search \n",
    "param_grid = {\n",
    "    'bootstrap': [True],\n",
    "    'max_depth': [80, 90, 100, 110],\n",
    "    'max_features': [2, 3],\n",
    "    'min_samples_leaf': [3, 4, 5],\n",
    "    'min_samples_split': [8, 10, 12],\n",
    "    'n_estimators': [100, 200, 300, 1000]\n",
    "}\n",
    "\n",
    "# Create a base model\n",
    "rf = RandomForestRegressor(random_state = 42)\n",
    "\n",
    "# Instantiate the grid search model\n",
    "grid_search = GridSearchCV(estimator = rf, param_grid = param_grid, \n",
    "                          cv = 3, n_jobs = -1, verbose = 2, return_train_score=True)"
   ]
  },
  {
   "cell_type": "code",
   "execution_count": null,
   "id": "4135da66-e1f2-446a-884a-cee44306e6b1",
   "metadata": {},
   "outputs": [],
   "source": [
    "# Fit the grid search to the data\n",
    "grid_search.fit(train_features, train_labels);"
   ]
  },
  {
   "cell_type": "code",
   "execution_count": null,
   "id": "f27e1b31-7cbf-4761-9e28-5e3fdb10179d",
   "metadata": {},
   "outputs": [],
   "source": [
    "grid_search.best_params_"
   ]
  },
  {
   "cell_type": "markdown",
   "id": "00f70c17-3073-4532-89c7-d0aa69049b5d",
   "metadata": {},
   "source": [
    "### Evaluate the Best Model from Grid Search"
   ]
  },
  {
   "cell_type": "code",
   "execution_count": null,
   "id": "92f84529-1763-4360-8773-c588445afd57",
   "metadata": {},
   "outputs": [],
   "source": [
    "best_grid = grid_search.best_estimator_\n",
    "grid_accuracy = evaluate(best_grid, test_features, test_labels)"
   ]
  },
  {
   "cell_type": "code",
   "execution_count": null,
   "id": "f93292fc-1cb7-4706-acb8-b88684d9fdf8",
   "metadata": {},
   "outputs": [],
   "source": [
    "print('Improvement of {:0.2f}%.'.format( 100 * (grid_accuracy - base_accuracy) / base_accuracy))"
   ]
  }
 ],
 "metadata": {
  "kernelspec": {
   "display_name": "Python 3",
   "language": "python",
   "name": "python3"
  },
  "language_info": {
   "codemirror_mode": {
    "name": "ipython",
    "version": 3
   },
   "file_extension": ".py",
   "mimetype": "text/x-python",
   "name": "python",
   "nbconvert_exporter": "python",
   "pygments_lexer": "ipython3",
   "version": "3.8.8"
  }
 },
 "nbformat": 4,
 "nbformat_minor": 5
}

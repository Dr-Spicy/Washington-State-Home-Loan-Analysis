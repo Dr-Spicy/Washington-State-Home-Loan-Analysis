{
 "cells": [
  {
   "cell_type": "code",
   "execution_count": 39,
   "id": "0b9926a0-77fc-47c8-9a97-f64ac510da7a",
   "metadata": {},
   "outputs": [],
   "source": [
    "import numpy as np\n",
    "import scipy\n",
    "import pandas as pd\n",
    "from sklearn import preprocessing\n",
    "from sklearn.ensemble import RandomForestClassifier\n",
    "from sklearn.tree import DecisionTreeClassifier\n",
    "from sklearn.model_selection import train_test_split, cross_val_score, GridSearchCV, RandomizedSearchCV, cross_validate\n",
    "from sklearn.metrics import roc_curve, auc, roc_auc_score\n",
    "import matplotlib.pyplot as plt"
   ]
  },
  {
   "cell_type": "code",
   "execution_count": 2,
   "id": "ce63799b-db31-4c22-9b39-36c0b4735e8f",
   "metadata": {},
   "outputs": [
    {
     "name": "stderr",
     "output_type": "stream",
     "text": [
      "<ipython-input-2-30203b14c1a0>:1: DtypeWarning: Columns (23) have mixed types. Specify dtype option on import or set low_memory=False.\n",
      "  df = pd.read_csv('C:/Users/Han/Desktop/Box Sync/Stat 485/Final Project/cleaned.data.csv', index_col=[0])\n"
     ]
    }
   ],
   "source": [
    "df = pd.read_csv('C:/Users/Han/Desktop/Box Sync/Stat 485/Final Project/cleaned.data.csv', index_col=[0])"
   ]
  },
  {
   "cell_type": "markdown",
   "id": "7bc8f8c8-022a-4869-8406-dc43e1fb69b4",
   "metadata": {},
   "source": [
    "Change loan_approved to 1 or 0 and move it to the last column"
   ]
  },
  {
   "cell_type": "code",
   "execution_count": 3,
   "id": "5d144310-3b50-40f3-a27e-a132320b83be",
   "metadata": {},
   "outputs": [],
   "source": [
    "label = df['loan_approved']\n",
    "df = df.drop(['loan_approved'], axis =1)\n",
    "df.insert(loc=23, column = 'loan_approved', value = label)"
   ]
  },
  {
   "cell_type": "code",
   "execution_count": 4,
   "id": "3e87e92c-ef5e-4f74-94c1-8ce3a0e5a257",
   "metadata": {},
   "outputs": [],
   "source": [
    "df.loan_approved= df.loan_approved.astype(str).map({'No':0, 'Yes':1})"
   ]
  },
  {
   "cell_type": "markdown",
   "id": "22c0aae6-7f88-4cba-b2b6-d0c7ee6282b3",
   "metadata": {},
   "source": [
    "Drop redundant columns, county_name, county_code, denials"
   ]
  },
  {
   "cell_type": "code",
   "execution_count": 5,
   "id": "a977b118-c28d-4e7b-9f6d-b49d4b07c8f6",
   "metadata": {},
   "outputs": [],
   "source": [
    "df = df.drop(['county_name','county_code','denials'], axis = 1)"
   ]
  },
  {
   "cell_type": "markdown",
   "id": "56952d84-9933-40e3-a4cf-5d11c00eb482",
   "metadata": {},
   "source": [
    "Drop column: hoepa_status_name, because it is perfectly in line with the approval of the loan"
   ]
  },
  {
   "cell_type": "code",
   "execution_count": 6,
   "id": "92f35445-d125-4547-95a7-39a77b14706e",
   "metadata": {},
   "outputs": [],
   "source": [
    "df = df.drop(['hoepa_status_name'], axis = 1)"
   ]
  },
  {
   "cell_type": "markdown",
   "id": "157cfe78-6be0-4369-bfda-4365a702d68f",
   "metadata": {},
   "source": [
    "Process label encoder on the object variables to work with sk.classifier"
   ]
  },
  {
   "cell_type": "code",
   "execution_count": 7,
   "id": "03f9e47e-557c-4043-b7a1-b6a56996f532",
   "metadata": {},
   "outputs": [
    {
     "data": {
      "text/plain": [
       "tract_to_msamd_income             float64\n",
       "population                          int64\n",
       "minority_population               float64\n",
       "number_of_owner_occupied_units      int64\n",
       "number_of_1_to_4_family_units       int64\n",
       "loan_amount_000s                    int64\n",
       "hud_median_family_income            int64\n",
       "applicant_income_000s               int64\n",
       "property_type_name                 object\n",
       "owner_occupancy_name               object\n",
       "loan_type_name                     object\n",
       "loan_purpose_name                  object\n",
       "lien_status_name                   object\n",
       "co_applicant_sex_name              object\n",
       "census_tract_number               float64\n",
       "applicant_sex_name                 object\n",
       "agency_abbr                        object\n",
       "applicant_race                     object\n",
       "co_applicant_race                  object\n",
       "loan_approved                       int64\n",
       "dtype: object"
      ]
     },
     "execution_count": 7,
     "metadata": {},
     "output_type": "execute_result"
    }
   ],
   "source": [
    "df.dtypes"
   ]
  },
  {
   "cell_type": "code",
   "execution_count": 8,
   "id": "996f6ed1-0833-4637-b977-593043293df0",
   "metadata": {},
   "outputs": [],
   "source": [
    "le = preprocessing.LabelEncoder()\n",
    "for column_name in df.columns:\n",
    "    if df[column_name].dtype == object:\n",
    "        df[column_name] = le.fit_transform(df[column_name])\n",
    "    else:\n",
    "        pass"
   ]
  },
  {
   "cell_type": "markdown",
   "id": "4a78a673-67bf-49f2-a3e8-8dfd5f59ed73",
   "metadata": {},
   "source": [
    "Adjust a few column's dtype"
   ]
  },
  {
   "cell_type": "code",
   "execution_count": 9,
   "id": "a7b71ba9-bc17-4057-b556-0da6f3d53111",
   "metadata": {},
   "outputs": [],
   "source": [
    "#df.loc[:,'property_type_name':'loan_approved'] = df.loc[:,'property_type_name':'loan_approved'].apply(pd.Categorical)"
   ]
  },
  {
   "cell_type": "markdown",
   "id": "9c4ad7d8-9bc4-41a2-8699-390ec0e8b6c8",
   "metadata": {},
   "source": [
    "List the # of copies of each class"
   ]
  },
  {
   "cell_type": "code",
   "execution_count": 10,
   "id": "ae710f17-89ec-4be6-bdd7-b7cc9c64b801",
   "metadata": {},
   "outputs": [
    {
     "data": {
      "text/plain": [
       "1    251758\n",
       "0     60016\n",
       "Name: loan_approved, dtype: int64"
      ]
     },
     "execution_count": 10,
     "metadata": {},
     "output_type": "execute_result"
    }
   ],
   "source": [
    "df.loan_approved.value_counts()"
   ]
  },
  {
   "cell_type": "markdown",
   "id": "88115551-728c-4c65-be2c-dbae0301402f",
   "metadata": {},
   "source": [
    "Prepare the Y/label and the X"
   ]
  },
  {
   "cell_type": "code",
   "execution_count": 11,
   "id": "8e216152-7a27-4d20-8c98-91d9931f46ab",
   "metadata": {},
   "outputs": [],
   "source": [
    "y = df.loan_approved"
   ]
  },
  {
   "cell_type": "code",
   "execution_count": 12,
   "id": "b2f5d94f-9ea2-4c13-84e4-d9d31de90f43",
   "metadata": {},
   "outputs": [],
   "source": [
    "x = df.drop('loan_approved', axis =1)"
   ]
  },
  {
   "cell_type": "code",
   "execution_count": 13,
   "id": "4c3c4660-fd52-4792-a805-208245f61bb5",
   "metadata": {},
   "outputs": [
    {
     "data": {
      "text/plain": [
       "tract_to_msamd_income             float64\n",
       "population                          int64\n",
       "minority_population               float64\n",
       "number_of_owner_occupied_units      int64\n",
       "number_of_1_to_4_family_units       int64\n",
       "loan_amount_000s                    int64\n",
       "hud_median_family_income            int64\n",
       "applicant_income_000s               int64\n",
       "property_type_name                  int32\n",
       "owner_occupancy_name                int32\n",
       "loan_type_name                      int32\n",
       "loan_purpose_name                   int32\n",
       "lien_status_name                    int32\n",
       "co_applicant_sex_name               int32\n",
       "census_tract_number               float64\n",
       "applicant_sex_name                  int32\n",
       "agency_abbr                         int32\n",
       "applicant_race                      int32\n",
       "co_applicant_race                   int32\n",
       "dtype: object"
      ]
     },
     "execution_count": 13,
     "metadata": {},
     "output_type": "execute_result"
    }
   ],
   "source": [
    "x.dtypes"
   ]
  },
  {
   "cell_type": "code",
   "execution_count": 14,
   "id": "97ff191d-d6c8-43b9-abcd-03a9ed1a028a",
   "metadata": {},
   "outputs": [
    {
     "data": {
      "text/html": [
       "<div>\n",
       "<style scoped>\n",
       "    .dataframe tbody tr th:only-of-type {\n",
       "        vertical-align: middle;\n",
       "    }\n",
       "\n",
       "    .dataframe tbody tr th {\n",
       "        vertical-align: top;\n",
       "    }\n",
       "\n",
       "    .dataframe thead th {\n",
       "        text-align: right;\n",
       "    }\n",
       "</style>\n",
       "<table border=\"1\" class=\"dataframe\">\n",
       "  <thead>\n",
       "    <tr style=\"text-align: right;\">\n",
       "      <th></th>\n",
       "      <th>tract_to_msamd_income</th>\n",
       "      <th>population</th>\n",
       "      <th>minority_population</th>\n",
       "      <th>number_of_owner_occupied_units</th>\n",
       "      <th>number_of_1_to_4_family_units</th>\n",
       "      <th>loan_amount_000s</th>\n",
       "      <th>hud_median_family_income</th>\n",
       "      <th>applicant_income_000s</th>\n",
       "      <th>property_type_name</th>\n",
       "      <th>owner_occupancy_name</th>\n",
       "      <th>loan_type_name</th>\n",
       "      <th>loan_purpose_name</th>\n",
       "      <th>lien_status_name</th>\n",
       "      <th>co_applicant_sex_name</th>\n",
       "      <th>census_tract_number</th>\n",
       "      <th>applicant_sex_name</th>\n",
       "      <th>agency_abbr</th>\n",
       "      <th>applicant_race</th>\n",
       "      <th>co_applicant_race</th>\n",
       "    </tr>\n",
       "  </thead>\n",
       "  <tbody>\n",
       "    <tr>\n",
       "      <th>1</th>\n",
       "      <td>121.690002</td>\n",
       "      <td>8381</td>\n",
       "      <td>23.790001</td>\n",
       "      <td>2175</td>\n",
       "      <td>2660</td>\n",
       "      <td>227</td>\n",
       "      <td>73300</td>\n",
       "      <td>116</td>\n",
       "      <td>1</td>\n",
       "      <td>2</td>\n",
       "      <td>0</td>\n",
       "      <td>2</td>\n",
       "      <td>1</td>\n",
       "      <td>2</td>\n",
       "      <td>413.27</td>\n",
       "      <td>0</td>\n",
       "      <td>0</td>\n",
       "      <td>5</td>\n",
       "      <td>5</td>\n",
       "    </tr>\n",
       "    <tr>\n",
       "      <th>2</th>\n",
       "      <td>83.370003</td>\n",
       "      <td>4915</td>\n",
       "      <td>23.990000</td>\n",
       "      <td>1268</td>\n",
       "      <td>1777</td>\n",
       "      <td>240</td>\n",
       "      <td>57900</td>\n",
       "      <td>42</td>\n",
       "      <td>1</td>\n",
       "      <td>2</td>\n",
       "      <td>1</td>\n",
       "      <td>1</td>\n",
       "      <td>1</td>\n",
       "      <td>3</td>\n",
       "      <td>9208.01</td>\n",
       "      <td>2</td>\n",
       "      <td>3</td>\n",
       "      <td>4</td>\n",
       "      <td>7</td>\n",
       "    </tr>\n",
       "    <tr>\n",
       "      <th>3</th>\n",
       "      <td>91.129997</td>\n",
       "      <td>5075</td>\n",
       "      <td>11.820000</td>\n",
       "      <td>1136</td>\n",
       "      <td>1838</td>\n",
       "      <td>241</td>\n",
       "      <td>73300</td>\n",
       "      <td>117</td>\n",
       "      <td>1</td>\n",
       "      <td>2</td>\n",
       "      <td>0</td>\n",
       "      <td>2</td>\n",
       "      <td>1</td>\n",
       "      <td>0</td>\n",
       "      <td>414.00</td>\n",
       "      <td>2</td>\n",
       "      <td>3</td>\n",
       "      <td>8</td>\n",
       "      <td>9</td>\n",
       "    </tr>\n",
       "    <tr>\n",
       "      <th>4</th>\n",
       "      <td>146.169998</td>\n",
       "      <td>5032</td>\n",
       "      <td>8.590000</td>\n",
       "      <td>1525</td>\n",
       "      <td>1820</td>\n",
       "      <td>351</td>\n",
       "      <td>73300</td>\n",
       "      <td>315</td>\n",
       "      <td>1</td>\n",
       "      <td>2</td>\n",
       "      <td>0</td>\n",
       "      <td>2</td>\n",
       "      <td>1</td>\n",
       "      <td>0</td>\n",
       "      <td>405.10</td>\n",
       "      <td>2</td>\n",
       "      <td>4</td>\n",
       "      <td>5</td>\n",
       "      <td>5</td>\n",
       "    </tr>\n",
       "    <tr>\n",
       "      <th>5</th>\n",
       "      <td>162.470001</td>\n",
       "      <td>5183</td>\n",
       "      <td>10.500000</td>\n",
       "      <td>1705</td>\n",
       "      <td>2104</td>\n",
       "      <td>417</td>\n",
       "      <td>78100</td>\n",
       "      <td>114</td>\n",
       "      <td>1</td>\n",
       "      <td>2</td>\n",
       "      <td>0</td>\n",
       "      <td>0</td>\n",
       "      <td>1</td>\n",
       "      <td>2</td>\n",
       "      <td>907.00</td>\n",
       "      <td>0</td>\n",
       "      <td>1</td>\n",
       "      <td>8</td>\n",
       "      <td>9</td>\n",
       "    </tr>\n",
       "  </tbody>\n",
       "</table>\n",
       "</div>"
      ],
      "text/plain": [
       "   tract_to_msamd_income  population  minority_population  \\\n",
       "1             121.690002        8381            23.790001   \n",
       "2              83.370003        4915            23.990000   \n",
       "3              91.129997        5075            11.820000   \n",
       "4             146.169998        5032             8.590000   \n",
       "5             162.470001        5183            10.500000   \n",
       "\n",
       "   number_of_owner_occupied_units  number_of_1_to_4_family_units  \\\n",
       "1                            2175                           2660   \n",
       "2                            1268                           1777   \n",
       "3                            1136                           1838   \n",
       "4                            1525                           1820   \n",
       "5                            1705                           2104   \n",
       "\n",
       "   loan_amount_000s  hud_median_family_income  applicant_income_000s  \\\n",
       "1               227                     73300                    116   \n",
       "2               240                     57900                     42   \n",
       "3               241                     73300                    117   \n",
       "4               351                     73300                    315   \n",
       "5               417                     78100                    114   \n",
       "\n",
       "   property_type_name  owner_occupancy_name  loan_type_name  \\\n",
       "1                   1                     2               0   \n",
       "2                   1                     2               1   \n",
       "3                   1                     2               0   \n",
       "4                   1                     2               0   \n",
       "5                   1                     2               0   \n",
       "\n",
       "   loan_purpose_name  lien_status_name  co_applicant_sex_name  \\\n",
       "1                  2                 1                      2   \n",
       "2                  1                 1                      3   \n",
       "3                  2                 1                      0   \n",
       "4                  2                 1                      0   \n",
       "5                  0                 1                      2   \n",
       "\n",
       "   census_tract_number  applicant_sex_name  agency_abbr  applicant_race  \\\n",
       "1               413.27                   0            0               5   \n",
       "2              9208.01                   2            3               4   \n",
       "3               414.00                   2            3               8   \n",
       "4               405.10                   2            4               5   \n",
       "5               907.00                   0            1               8   \n",
       "\n",
       "   co_applicant_race  \n",
       "1                  5  \n",
       "2                  7  \n",
       "3                  9  \n",
       "4                  5  \n",
       "5                  9  "
      ]
     },
     "execution_count": 14,
     "metadata": {},
     "output_type": "execute_result"
    }
   ],
   "source": [
    "x.head()"
   ]
  },
  {
   "cell_type": "markdown",
   "id": "7572354e-e0d9-4cb0-a8bf-b5ac8516e743",
   "metadata": {},
   "source": [
    "Split"
   ]
  },
  {
   "cell_type": "code",
   "execution_count": 15,
   "id": "f8e4410e-7c03-4fe9-b036-75cd69faf7d7",
   "metadata": {},
   "outputs": [],
   "source": [
    "seed = 127\n",
    "xtrain,xtest, ytrain, ytest = train_test_split(x,y,test_size =.2, \n",
    "                                               random_state= seed\n",
    "                                              )"
   ]
  },
  {
   "cell_type": "markdown",
   "id": "e1c4812d-92fa-4cc8-841f-93c712c1a5de",
   "metadata": {},
   "source": []
  },
  {
   "cell_type": "markdown",
   "id": "c6a5838c-2fc1-4774-bda9-70c7a393e3b6",
   "metadata": {},
   "source": [
    "## Next, we do some un-tuned prediction and use them as the baseline performance. Run a CART with 3-fold CV on the training set to see the accuracy result."
   ]
  },
  {
   "cell_type": "code",
   "execution_count": 99,
   "id": "0e397240-244f-4e26-9b3e-113b6d00aef2",
   "metadata": {},
   "outputs": [],
   "source": [
    "clf = DecisionTreeClassifier(max_depth = None, min_samples_split= 2, random_state=127)\n",
    "scores = cross_validate(clf, xtrain, ytrain, cv=3, n_jobs=10, scoring=['accuracy','roc_auc'])"
   ]
  },
  {
   "cell_type": "code",
   "execution_count": 100,
   "id": "2c64a040-da1f-48ca-be1f-f1bd72c25d52",
   "metadata": {},
   "outputs": [
    {
     "name": "stdout",
     "output_type": "stream",
     "text": [
      "CART has a base mean accuracy score of 0.7375 after 3-fold CV on the training set.\n",
      "CART has a base mean ROC AUC score of 0.5927 after 3-fold CV on the training set.\n"
     ]
    }
   ],
   "source": [
    "print('CART has a base mean accuracy score of %0.4f after 3-fold CV on the training set.' % scores['test_accuracy'].mean())\n",
    "print('CART has a base mean ROC AUC score of %0.4f after 3-fold CV on the training set.' % scores['test_roc_auc'].mean())"
   ]
  },
  {
   "cell_type": "markdown",
   "id": "024dd8d5-8528-489e-a507-bda411eb2d47",
   "metadata": {},
   "source": [
    "## Then we run 3-fold CV on RF on the training set"
   ]
  },
  {
   "cell_type": "code",
   "execution_count": 101,
   "id": "cb672b9a-a63c-419d-8395-d6fbe9355339",
   "metadata": {},
   "outputs": [
    {
     "name": "stdout",
     "output_type": "stream",
     "text": [
      "RF has a base mean accuracy score of 0.8179 after 3-fold CV on the training set.\n",
      "RF has a base mean ROC AUC score of 0.7372 after 3-fold CV on the training set.\n"
     ]
    }
   ],
   "source": [
    "rfc = RandomForestClassifier(n_estimators= 100, max_depth = None, random_state=127)\n",
    "scores = cross_validate(rfc, xtrain, ytrain, cv=3, n_jobs=10, scoring=['accuracy','roc_auc'])\n",
    "print('RF has a base mean accuracy score of %0.4f after 3-fold CV on the training set.' % scores['test_accuracy'].mean())\n",
    "print('RF has a base mean ROC AUC score of %0.4f after 3-fold CV on the training set.' % scores['test_roc_auc'].mean())"
   ]
  },
  {
   "cell_type": "markdown",
   "id": "74f5809b-8e68-4b22-bbb4-53db92ece6f3",
   "metadata": {},
   "source": [
    "## Now, we run 10 repetitions of the untuned models with validation on the test set. "
   ]
  },
  {
   "cell_type": "code",
   "execution_count": 134,
   "id": "5c347a6a-e96b-404f-ae65-0439e024d5ab",
   "metadata": {},
   "outputs": [],
   "source": [
    "rfc_accu = []; rfc_auc = [];\n",
    "clf_accu = []; clf_auc = [];\n",
    "for i in range(10):\n",
    "    xtrain1,xtest1, ytrain1, ytest1 = train_test_split(x,y,test_size =.2)\n",
    "    rfc = RandomForestClassifier(n_jobs = 14).fit(xtrain1,ytrain1)\n",
    "    rfc_accu.append(rfc.score(xtest1, ytest1))\n",
    "    rfc_auc.append(roc_auc_score(ytest1, rfc.predict_proba(xtest1)[:,1]))\n",
    "    clf = DecisionTreeClassifier().fit(xtrain1,ytrain1)\n",
    "    clf_accu.append(clf.score(xtest1, ytest1))\n",
    "    clf_auc.append(roc_auc_score(ytest1, clf.predict_proba(xtest1)[:,1]))\n"
   ]
  },
  {
   "cell_type": "code",
   "execution_count": 116,
   "id": "d652334d-a7c4-4107-a630-53de3ece2c3c",
   "metadata": {},
   "outputs": [
    {
     "data": {
      "image/png": "[encoded data removed]",
      "text/plain": [
       "<Figure size 640x480 with 1 Axes>"
      ]
     },
     "metadata": {},
     "output_type": "display_data"
    }
   ],
   "source": [
    "# Plot them   \n",
    "plt.plot(range(1,11),rfc_accu, 'r--',label = \"RF Accuracy\")\n",
    "plt.plot(range(1,11),rfc_auc, 'g--',label = \"RF ROC-AUC\")\n",
    "plt.plot(range(1,11),clf_accu, 'm',label = \"CART Accuracy\")\n",
    "plt.plot(range(1,11),clf_auc,'b',label = \"CART ROC-AUC\")\n",
    "plt.ylabel('mean evaluation scores on the test set')\n",
    "plt.xlabel('repetition')\n",
    "plt.xticks(range(1,11))\n",
    "plt.legend()\n",
    "plt.show()"
   ]
  },
  {
   "cell_type": "markdown",
   "id": "b2f7b042-e72e-4328-8c40-b52683380fce",
   "metadata": {},
   "source": [
    "### These means can serve as the baseline performances. "
   ]
  },
  {
   "cell_type": "code",
   "execution_count": 114,
   "id": "0181a58a-bb67-4646-90c2-ae241dae0370",
   "metadata": {},
   "outputs": [
    {
     "name": "stdout",
     "output_type": "stream",
     "text": [
      "Vanilla CART has a base mean test accuracy score of 0.7385 from 10 repetitions\n",
      "Vanilla CART has a base mean test ROC-AUC score of 0.5974 from 10 repetitions\n",
      "Vanilla RF has a base mean test accuracy score of 0.8180 from 10 repetitions\n",
      "Vanilla RF has a base mean test ROC-AUC score of 0.7399 from 10 repetitions\n"
     ]
    }
   ],
   "source": [
    "print('Vanilla CART has a base mean test accuracy score of %0.4f from 10 repetitions' % np.mean(clf_accu))\n",
    "print('Vanilla CART has a base mean test ROC-AUC score of %0.4f from 10 repetitions' % np.mean(clf_auc))\n",
    "print('Vanilla RF has a base mean test accuracy score of %0.4f from 10 repetitions' % np.mean(rfc_accu))\n",
    "print('Vanilla RF has a base mean test ROC-AUC score of %0.4f from 10 repetitions' % np.mean(rfc_auc))"
   ]
  },
  {
   "cell_type": "markdown",
   "id": "0c98b48f-d276-447f-932a-2b09ed37e917",
   "metadata": {},
   "source": [
    "## Next, let's tune the model, i.e. hyperparamters. "
   ]
  },
  {
   "cell_type": "markdown",
   "id": "fb59e469-bb35-47ba-a216-fa91c6e3abbe",
   "metadata": {},
   "source": [
    "### The hyper parameters that need to be tuned are: n_estimators(# of trees), min_samples_split (min # of samples required to split an internal node), min_samples_leaf(min # of samples required to be at a leaf node), max_depth, max_samples (proportion of the training samples given to each tree, max = 1, this will speed up if we can lower it),  max_features (max of features given to each tree, default is square.root of d. Conventialy , the ideal number is just around the default), criterion ('gini' or 'entropy'), class_weight (None or 'balanced')"
   ]
  },
  {
   "cell_type": "markdown",
   "id": "0a7946a2-484f-4264-95c3-7dc1fc61876b",
   "metadata": {},
   "source": [
    "### The importance of hyperparameters of RF comes in: n_estimators> max_depth> min_samples_split = min_samples_leaf > max_features. others are data dependent. "
   ]
  },
  {
   "cell_type": "markdown",
   "id": "67ef22e4-7978-4b6d-b661-56317407a02b",
   "metadata": {},
   "source": [
    "Let's try to plot the learning curve of n_estimators"
   ]
  },
  {
   "cell_type": "code",
   "execution_count": 43,
   "id": "b4bc2b75-05bf-4bbc-b890-d12c792daa6c",
   "metadata": {
    "tags": []
   },
   "outputs": [
    {
     "name": "stdout",
     "output_type": "stream",
     "text": [
      "2200 0.740404667513671 5.682381762780277e-08\n",
      "700 0.739978268015235 4.683405248597531e-08\n",
      "2200 0.740404667513671 5.682381762780277e-08 0.06738979347250534\n"
     ]
    },
    {
     "data": {
      "image/png": "[encoded data removed]",
      "text/plain": [
       "<Figure size 2000x500 with 1 Axes>"
      ]
     },
     "metadata": {},
     "output_type": "display_data"
    }
   ],
   "source": [
    "axisx = range(100,2201,300)\n",
    "rs = []\n",
    "var = []\n",
    "ge = []\n",
    "for i in axisx:\n",
    "    rfc = RandomForestClassifier(n_estimators=i,n_jobs=14, random_state = 38)\n",
    "    cvresult = cross_val_score(rfc, xtrain, ytrain, cv=3, n_jobs=14, scoring='roc_auc')\n",
    "    #记录1-偏差\n",
    "    rs.append(cvresult.mean())\n",
    "    #记录方差\n",
    "    var.append(cvresult.var())\n",
    "    #计算泛化误差的可控部分\n",
    "    ge.append((1 - cvresult.mean())**2+cvresult.var())\n",
    "#打印AUC最高所对应的参数取值，并打印这个参数下的方差\n",
    "print(axisx[rs.index(max(rs))],max(rs),var[rs.index(max(rs))])\n",
    "#打印方差最低时对应的参数取值，并打印这个参数下的AUC\n",
    "print(axisx[var.index(min(var))],rs[var.index(min(var))],min(var))"
   ]
  },
  {
   "cell_type": "code",
   "execution_count": 53,
   "id": "a45cc454-f529-4089-8b72-5cc305a9aa28",
   "metadata": {
    "tags": []
   },
   "outputs": [
    {
     "data": {
      "image/png": "[encoded data removed]",
      "text/plain": [
       "<Figure size 640x480 with 1 Axes>"
      ]
     },
     "metadata": {},
     "output_type": "display_data"
    }
   ],
   "source": [
    "plt.plot(axisx,rs,c=\"red\",label=\"RF\")\n",
    "plt.ylabel('mean AUC of 3-fold CV')\n",
    "plt.xlabel('number of trees')\n",
    "plt.legend()\n",
    "plt.show()"
   ]
  },
  {
   "cell_type": "code",
   "execution_count": 52,
   "id": "0eb0dbc8-483e-4bdd-8c42-2a512a722c83",
   "metadata": {},
   "outputs": [
    {
     "data": {
      "text/plain": [
       "array([0.73568123, 0.73932966, 0.73997831, 0.7402398 , 0.74038105,\n",
       "       0.74035532, 0.74037828, 0.74040472])"
      ]
     },
     "execution_count": 52,
     "metadata": {},
     "output_type": "execute_result"
    }
   ],
   "source": [
    "np.add(rs, var)"
   ]
  },
  {
   "cell_type": "markdown",
   "id": "38db38a4-5a8d-42b9-aa5f-d6f0ac7669e9",
   "metadata": {},
   "source": [
    "It seems like the performance boost by incraesing n_estimators is saturated after 1,300. We'd like to keep this number low to save computation power. Now, we will fine tune the n_estimators via grid serach based on the above optimal value 1,300. "
   ]
  },
  {
   "cell_type": "code",
   "execution_count": 16,
   "id": "a99d9180-34f6-4f2c-a8fb-30329a148acc",
   "metadata": {},
   "outputs": [],
   "source": [
    "n_estimator_grid = {'n_estimators':np.arange(1200, 1401, 25)}\n",
    "\n",
    "rfc = RandomForestClassifier(n_jobs=1, random_state = 38)\n",
    "# Instantiate the grid search model\n",
    "grid_search = GridSearchCV(estimator = rfc, param_grid = n_estimator_grid, \n",
    "                          cv = 3, n_jobs = 14, verbose = 2, return_train_score=False)"
   ]
  },
  {
   "cell_type": "code",
   "execution_count": 17,
   "id": "05138c34-9710-4f0c-b5fd-e17e1def93e2",
   "metadata": {},
   "outputs": [
    {
     "name": "stdout",
     "output_type": "stream",
     "text": [
      "Fitting 3 folds for each of 9 candidates, totalling 27 fits\n"
     ]
    }
   ],
   "source": [
    "# Fit the grid search to the data\n",
    "grid_search.fit(xtrain, ytrain);"
   ]
  },
  {
   "cell_type": "code",
   "execution_count": 18,
   "id": "c8eee57d-c0eb-4f32-8d59-0b4f2b5c4a8e",
   "metadata": {},
   "outputs": [
    {
     "data": {
      "text/plain": [
       "{'n_estimators': 1375}"
      ]
     },
     "execution_count": 18,
     "metadata": {},
     "output_type": "execute_result"
    }
   ],
   "source": [
    "grid_search.best_params_"
   ]
  },
  {
   "cell_type": "markdown",
   "id": "17e91ffe-e74d-4af7-8db2-451cf2305c98",
   "metadata": {},
   "source": [
    "Instead of doing grid search on all hyperparas together, we'd tune the next important hyperpara first via learning curve frist, then gridsearchCV"
   ]
  },
  {
   "cell_type": "code",
   "execution_count": 24,
   "id": "ba5ba311-64bb-433e-80ea-9e998535d61b",
   "metadata": {},
   "outputs": [
    {
     "name": "stdout",
     "output_type": "stream",
     "text": [
      "15 0.7622305663494716 6.0399649959688735e-06\n"
     ]
    },
    {
     "data": {
      "image/png": "[encoded data removed]",
      "text/plain": [
       "<Figure size 640x480 with 1 Axes>"
      ]
     },
     "metadata": {},
     "output_type": "display_data"
    }
   ],
   "source": [
    "axisx = [5, 10, 15, 20, 30, 50, 80, None]\n",
    "rs = []\n",
    "var = []\n",
    "\n",
    "for i in axisx:\n",
    "    rfc = RandomForestClassifier(n_estimators=1375, max_depth = i,n_jobs=14, random_state = 38)\n",
    "    cvresult = cross_val_score(rfc, xtrain, ytrain, cv=3, n_jobs=14, scoring='roc_auc')\n",
    "    #记录1-偏差\n",
    "    rs.append(cvresult.mean())\n",
    "    #记录方差\n",
    "    var.append(cvresult.var())\n",
    "#打印AUC最高所对应的参数取值，并打印这个参数下的方差\n",
    "print(axisx[rs.index(max(rs))],max(rs),var[rs.index(max(rs))])\n",
    "#打印方差最低时对应的参数取值，并打印这个参数下的R2\n",
    "plt.plot(axisx,rs,c=\"green\",label=\"RF\")\n",
    "plt.ylabel('mean AUC of 3-fold CV')\n",
    "plt.xlabel('max depth of each tree')\n",
    "plt.legend()\n",
    "plt.show()"
   ]
  },
  {
   "cell_type": "markdown",
   "id": "970c9bd4-3ea9-40de-9484-39eeb82e471c",
   "metadata": {},
   "source": [
    "It seems like the AUC performance is peaked when the max_depth around 15. We'd like to keep this number in the middle to keep the generalization error to its smallest. Now, we will move onto the less important hyper-parameters using grid search."
   ]
  },
  {
   "cell_type": "code",
   "execution_count": 92,
   "id": "78a76f6c-1059-4e99-88d3-5e045488e408",
   "metadata": {},
   "outputs": [],
   "source": [
    "# Create the parameter grid based on the results of learning curves plot above\n",
    "tree_split_param_grid = {\n",
    "    'min_samples_leaf': [1,2,4 ],\n",
    "    'min_samples_split': [5, 10, 15,100],\n",
    "}\n"
   ]
  },
  {
   "cell_type": "code",
   "execution_count": 93,
   "id": "49637ea7-c5af-40be-978d-646ac434635e",
   "metadata": {},
   "outputs": [
    {
     "name": "stdout",
     "output_type": "stream",
     "text": [
      "Fitting 3 folds for each of 12 candidates, totalling 36 fits\n"
     ]
    }
   ],
   "source": [
    "rfc = RandomForestClassifier(n_estimators = 1375, max_depth=15, warm_start=True,\n",
    "                            n_jobs=1, random_state = 16)\n",
    "# Instantiate the grid search model\n",
    "grid_search = GridSearchCV(estimator = rfc, param_grid = tree_split_param_grid, \n",
    "                          cv = 3, n_jobs = 14, verbose = 2, scoring = 'roc_auc')\n",
    "# Fit the grid search to the data\n",
    "grid_search.fit(xtrain, ytrain);"
   ]
  },
  {
   "cell_type": "code",
   "execution_count": 94,
   "id": "7a33e861-8796-4983-87e1-f256c005f5f9",
   "metadata": {},
   "outputs": [],
   "source": [
    "best_grid = grid_search.best_estimator_\n",
    "grid_roc_auc = roc_auc_score(ytest, best_grid.predict_proba(xtest)[:,1])"
   ]
  },
  {
   "cell_type": "code",
   "execution_count": 97,
   "id": "7056f730-f4fd-4b94-ac4c-645900fa2836",
   "metadata": {},
   "outputs": [
    {
     "data": {
      "text/plain": [
       "0.7614000539336078"
      ]
     },
     "execution_count": 97,
     "metadata": {},
     "output_type": "execute_result"
    }
   ],
   "source": [
    "grid_roc_auc"
   ]
  },
  {
   "cell_type": "code",
   "execution_count": 95,
   "id": "c8553598-c5a9-497a-8942-0b1d6ab704eb",
   "metadata": {},
   "outputs": [
    {
     "data": {
      "text/plain": [
       "0.8229813166546388"
      ]
     },
     "execution_count": 95,
     "metadata": {},
     "output_type": "execute_result"
    }
   ],
   "source": [
    "grid_accuracy = best_grid.score(xtest, ytest)\n",
    "grid_accuracy"
   ]
  },
  {
   "cell_type": "code",
   "execution_count": 98,
   "id": "7084e6d5-0853-42d9-bf25-48c6e51f9d81",
   "metadata": {},
   "outputs": [
    {
     "data": {
      "text/plain": [
       "RandomForestClassifier(max_depth=15, min_samples_leaf=2, min_samples_split=15,\n",
       "                       n_estimators=1375, n_jobs=1, random_state=16,\n",
       "                       warm_start=True)"
      ]
     },
     "execution_count": 98,
     "metadata": {},
     "output_type": "execute_result"
    }
   ],
   "source": [
    " grid_search.best_estimator_"
   ]
  },
  {
   "cell_type": "markdown",
   "id": "988f77a7-df14-46b3-9c53-2e84f82c92fd",
   "metadata": {},
   "source": [
    "Next, we continue to tune other minor hyperparameters using another round of GridSearch"
   ]
  },
  {
   "cell_type": "code",
   "execution_count": 117,
   "id": "65387299-2a63-4115-adb9-91ad3a260e06",
   "metadata": {},
   "outputs": [
    {
     "name": "stdout",
     "output_type": "stream",
     "text": [
      "Fitting 3 folds for each of 9 candidates, totalling 27 fits\n"
     ]
    }
   ],
   "source": [
    "# Create the parameter grid based on the results of learning curves plot above\n",
    "minor_param_grid = {\n",
    "    'ccp_alpha': [0.0, 0.1, 0.2],\n",
    "    'max_samples': [0.6, 0.7, 0.8]\n",
    "}\n",
    "\n",
    "rfc = RandomForestClassifier(n_estimators = 1375, max_depth=15, warm_start=True,\n",
    "                             min_samples_leaf = 2, min_samples_split =15, \n",
    "                             n_jobs=1, random_state = 16)\n",
    "# Instantiate the grid search model\n",
    "grid_search = GridSearchCV(estimator = rfc, param_grid = minor_param_grid, \n",
    "                           cv = 3, n_jobs = 14, verbose = 2, scoring = 'roc_auc')\n",
    "# Fit the grid search to the data\n",
    "grid_search.fit(xtrain, ytrain);"
   ]
  },
  {
   "cell_type": "code",
   "execution_count": 118,
   "id": "39a7d476-54c5-459c-a7fa-2a5d718f807a",
   "metadata": {},
   "outputs": [
    {
     "data": {
      "text/plain": [
       "0.7614379702859772"
      ]
     },
     "execution_count": 118,
     "metadata": {},
     "output_type": "execute_result"
    }
   ],
   "source": [
    "best_grid = grid_search.best_estimator_\n",
    "grid_roc_auc = roc_auc_score(ytest, best_grid.predict_proba(xtest)[:,1])\n",
    "grid_roc_auc"
   ]
  },
  {
   "cell_type": "code",
   "execution_count": 119,
   "id": "99651dbe-02f8-4618-84cc-5284f73c62f5",
   "metadata": {},
   "outputs": [
    {
     "data": {
      "text/plain": [
       "0.8226605725282655"
      ]
     },
     "execution_count": 119,
     "metadata": {},
     "output_type": "execute_result"
    }
   ],
   "source": [
    "grid_accuracy = best_grid.score(xtest, ytest)\n",
    "grid_accuracy"
   ]
  },
  {
   "cell_type": "markdown",
   "id": "378d52ba-04d9-48b8-832f-b04e52fed091",
   "metadata": {},
   "source": [
    "#### Do grid search on a few other very minor hyperparameters"
   ]
  },
  {
   "cell_type": "code",
   "execution_count": 126,
   "id": "66a8dff4-0cb9-4719-9e54-3cb3d57d377d",
   "metadata": {},
   "outputs": [
    {
     "data": {
      "text/plain": [
       "0.7621400913644448"
      ]
     },
     "execution_count": 126,
     "metadata": {},
     "output_type": "execute_result"
    }
   ],
   "source": [
    "# change criterion to 'entorpy' and see\n",
    "rfc = RandomForestClassifier(max_depth=15, max_samples=0.9, min_samples_leaf=2,\n",
    "                       min_samples_split=15, n_estimators=1375, n_jobs=10,\n",
    "                       criterion = 'entropy',\n",
    "                       random_state=16, warm_start=True)\n",
    "rfc_model = rfc.fit(xtrain, ytrain)\n",
    "roc_auc_score(ytest, rfc_model.predict_proba(xtest)[:,1])"
   ]
  },
  {
   "cell_type": "markdown",
   "id": "097fe085-b593-4831-8969-1a234360784f",
   "metadata": {},
   "source": [
    "#### Wow, change criterion to 'entropy' increases the AUC by 0.0007"
   ]
  },
  {
   "cell_type": "code",
   "execution_count": 127,
   "id": "3bcb9451-5ced-4b90-a65e-7d051611eea0",
   "metadata": {},
   "outputs": [
    {
     "data": {
      "text/plain": [
       "0.7621400913644448"
      ]
     },
     "execution_count": 127,
     "metadata": {},
     "output_type": "execute_result"
    }
   ],
   "source": [
    "# change max_features to 'sqrt' and see\n",
    "rfc = RandomForestClassifier(max_depth=15, max_samples=0.9, min_samples_leaf=2,\n",
    "                       min_samples_split=15, n_estimators=1375, n_jobs=10, \n",
    "                       criterion = 'entropy',\n",
    "                       max_features = 'sqrt',\n",
    "                       random_state=16, warm_start=True)\n",
    "rfc_model = rfc.fit(xtrain, ytrain)\n",
    "roc_auc_score(ytest, rfc_model.predict_proba(xtest)[:,1])"
   ]
  },
  {
   "cell_type": "markdown",
   "id": "b6ba3111-12c4-4d58-9cae-316ae33fc53e",
   "metadata": {},
   "source": [
    "change the max_features from \"auto\" to \"sqrt\" is useless. "
   ]
  },
  {
   "cell_type": "markdown",
   "id": "fec673f4-fd01-4f36-986a-0b0e2b8aac06",
   "metadata": {},
   "source": [
    "### By this point, we can save our hyperparameter tuned model"
   ]
  },
  {
   "cell_type": "code",
   "execution_count": 128,
   "id": "8a678aa0-bfd5-4f67-a468-6494ee47ca63",
   "metadata": {},
   "outputs": [
    {
     "data": {
      "text/plain": [
       "RandomForestClassifier(criterion='entropy', max_depth=15, max_features='sqrt',\n",
       "                       max_samples=0.9, min_samples_leaf=2,\n",
       "                       min_samples_split=15, n_estimators=1375, n_jobs=10,\n",
       "                       random_state=16, warm_start=True)"
      ]
     },
     "execution_count": 128,
     "metadata": {},
     "output_type": "execute_result"
    }
   ],
   "source": [
    "best_rfc = rfc\n",
    "best_rfc"
   ]
  },
  {
   "cell_type": "markdown",
   "id": "f6311200-a73b-4861-824a-a877e0da50bb",
   "metadata": {},
   "source": [
    "### also get the tuned model's accuracy"
   ]
  },
  {
   "cell_type": "code",
   "execution_count": 135,
   "id": "e4dbfcc6-be61-42a2-b77a-c83cc55194f0",
   "metadata": {},
   "outputs": [
    {
     "data": {
      "text/plain": [
       "0.8228369817977709"
      ]
     },
     "execution_count": 135,
     "metadata": {},
     "output_type": "execute_result"
    }
   ],
   "source": [
    "best_accuracy = best_rfc.score(xtest, ytest)\n",
    "best_accuracy"
   ]
  },
  {
   "cell_type": "markdown",
   "id": "4dea70f0-90c8-4b3c-a5d4-3cbbc93e057a",
   "metadata": {},
   "source": [
    "### also get the tuned model's ROC-AUC"
   ]
  },
  {
   "cell_type": "code",
   "execution_count": 136,
   "id": "abb3c600-bdd3-4803-8c9a-5831f1d661e5",
   "metadata": {},
   "outputs": [
    {
     "data": {
      "text/plain": [
       "0.7621400913644448"
      ]
     },
     "execution_count": 136,
     "metadata": {},
     "output_type": "execute_result"
    }
   ],
   "source": [
    "best_roc_auc = roc_auc_score(ytest, rfc_model.predict_proba(xtest)[:,1])\n",
    "best_roc_auc"
   ]
  },
  {
   "cell_type": "markdown",
   "id": "00f70c17-3073-4532-89c7-d0aa69049b5d",
   "metadata": {},
   "source": [
    "## Interpretate the Best Model from Grid Search"
   ]
  },
  {
   "cell_type": "markdown",
   "id": "8bef7d76-0aef-42a7-a888-c916a17ce23a",
   "metadata": {},
   "source": [
    "### Feature Importance"
   ]
  },
  {
   "cell_type": "code",
   "execution_count": 132,
   "id": "678bb13b-6583-47bc-a1e7-66d00550f358",
   "metadata": {},
   "outputs": [
    {
     "name": "stdout",
     "output_type": "stream",
     "text": [
      "Feature Ranking\n",
      " 1) applicant_income_000s          0.182569\n",
      " 2) loan_purpose_name              0.175631\n",
      " 3) loan_amount_000s               0.116898\n",
      " 4) agency_abbr                    0.066962\n",
      " 5) census_tract_number            0.053218\n",
      " 6) minority_population            0.052761\n",
      " 7) tract_to_msamd_income          0.051049\n",
      " 8) population                     0.043537\n",
      " 9) number_of_1_to_4_family_units  0.043336\n",
      "10) number_of_owner_occupied_units 0.042656\n",
      "11) hud_median_family_income       0.029198\n",
      "12) loan_type_name                 0.026058\n",
      "13) co_applicant_race              0.025426\n",
      "14) co_applicant_sex_name          0.023866\n",
      "15) applicant_race                 0.023241\n",
      "16) lien_status_name               0.014741\n",
      "17) applicant_sex_name             0.011656\n",
      "18) property_type_name             0.009591\n",
      "19) owner_occupancy_name           0.007606\n"
     ]
    },
    {
     "data": {
      "image/png": "[encoded data removed]",
      "text/plain": [
       "<Figure size 640x480 with 1 Axes>"
      ]
     },
     "metadata": {},
     "output_type": "display_data"
    }
   ],
   "source": [
    "importances = best_rfc.feature_importances_ # feature's import\n",
    "std = np.std([tree.feature_importances_ for tree in best_rfc.estimators_], axis = 0)\n",
    "indices = np.argsort(importances)[::-1] # Print out the feature importance ranking, -1 is to indicator ascending\n",
    "print(\"Feature Ranking\")\n",
    "for f in range(xtrain.shape[1]):\n",
    "    print(\"%2d) %-*s %f\" % (f+1, 30, xtrain.columns[indices[f]], importances[indices[f]]))\n",
    "plt.figure()\n",
    "plt.title(\"Feature Importance\")\n",
    "plt.bar(range(xtrain.shape[1]), importances[indices], color = 'r', yerr = std[indices], align = 'center')\n",
    "plt.xticks(range(xtrain.shape[1]), range(1,xtrain.shape[1]+1))\n",
    "plt.xlim([-1, xtrain.shape[1]])\n",
    "plt.show()"
   ]
  },
  {
   "cell_type": "markdown",
   "id": "a0320430-432e-4a9e-80d6-5ee10778c0c6",
   "metadata": {},
   "source": [
    "ROC curve"
   ]
  },
  {
   "cell_type": "code",
   "execution_count": 133,
   "id": "3a7a0f32-b954-4f86-bd03-8b23c5c9f0d5",
   "metadata": {},
   "outputs": [
    {
     "data": {
      "image/png": "[encoded data removed]",
      "text/plain": [
       "<Figure size 640x480 with 1 Axes>"
      ]
     },
     "metadata": {},
     "output_type": "display_data"
    }
   ],
   "source": [
    "predictions_validation = best_rfc.predict_proba(xtest)[:,1]\n",
    "fpr, tpr, _ = roc_curve(ytest, predictions_validation)\n",
    "roc_auc = auc(fpr, tpr)\n",
    "plt.title('ROC Validation')\n",
    "plt.plot(fpr, tpr, 'b', label = 'AUC = %0.4f' % roc_auc)\n",
    "plt.legend(loc = 'lower right')\n",
    "plt.plot([0,1],[0,1], 'r--')\n",
    "plt.xlim([0,1])\n",
    "plt.ylim([0,1])\n",
    "plt.ylabel('True Positive Rate')\n",
    "plt.xlabel('False Positive Rate')\n",
    "plt.show()"
   ]
  },
  {
   "cell_type": "markdown",
   "id": "1e4cd9e4-c7f0-4921-8b16-d7bef573b8ed",
   "metadata": {},
   "source": [
    "## Conclusion: "
   ]
  },
  {
   "cell_type": "code",
   "execution_count": 138,
   "id": "5a63a909-279b-4d83-8e39-08c47dcbbf7d",
   "metadata": {},
   "outputs": [
    {
     "name": "stdout",
     "output_type": "stream",
     "text": [
      "The Random Forest classifier has an accuracy of 0.8228, and a ROC-AUC of 0.7621\n"
     ]
    }
   ],
   "source": [
    "print('The Random Forest classifier has an accuracy of %.4f, and a ROC-AUC of %.4f' % (best_accuracy, best_roc_auc))"
   ]
  },
  {
   "cell_type": "code",
   "execution_count": 145,
   "id": "fef79573-b4b1-4c74-b836-61eb91ca325c",
   "metadata": {},
   "outputs": [
    {
     "name": "stdout",
     "output_type": "stream",
     "text": [
      "Compared to the vanilla model's accuracy of 0.8180, the tuning process increaes its performance by 0.0048 to 0.8228.\n"
     ]
    }
   ],
   "source": [
    "print(\"Compared to the vanilla model's accuracy of %.4f, the tuning process increaes its performance by %.4f to %.4f.\" \n",
    "      %(0.8180, best_accuracy - 0.8180, best_accuracy))"
   ]
  },
  {
   "cell_type": "code",
   "execution_count": 146,
   "id": "bad2be3e-07bb-4641-877b-a5d1e040d542",
   "metadata": {},
   "outputs": [
    {
     "name": "stdout",
     "output_type": "stream",
     "text": [
      "Compared to the vanilla model's ROC-AUC score of 0.7399, the tuning process increaes its performance by 0.0222 to 0.7621.\n"
     ]
    }
   ],
   "source": [
    "print(\"Compared to the vanilla model's ROC-AUC score of %.4f, the tuning process increaes its performance by %.4f to %.4f.\" \n",
    "      %(0.7399, best_roc_auc - 0.7399, best_roc_auc))"
   ]
  }
 ],
 "metadata": {
  "kernelspec": {
   "display_name": "Python 3",
   "language": "python",
   "name": "python3"
  },
  "language_info": {
   "codemirror_mode": {
    "name": "ipython",
    "version": 3
   },
   "file_extension": ".py",
   "mimetype": "text/x-python",
   "name": "python",
   "nbconvert_exporter": "python",
   "pygments_lexer": "ipython3",
   "version": "3.8.8"
  }
 },
 "nbformat": 4,
 "nbformat_minor": 5
}
